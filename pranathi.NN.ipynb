{
  "nbformat": 4,
  "nbformat_minor": 0,
  "metadata": {
    "colab": {
      "provenance": []
    },
    "kernelspec": {
      "name": "python3",
      "display_name": "Python 3"
    },
    "language_info": {
      "name": "python"
    }
  },
  "cells": [
    {
      "cell_type": "code",
      "execution_count": 3,
      "metadata": {
        "colab": {
          "base_uri": "https://localhost:8080/"
        },
        "id": "P_y1LQa_02m_",
        "outputId": "64e651a4-486a-49c5-9172-07104ce10d6d"
      },
      "outputs": [
        {
          "output_type": "stream",
          "name": "stdout",
          "text": [
            "htyp\n"
          ]
        }
      ],
      "source": [
        "def my_function(x):\n",
        "  return x[::-1]\n",
        "\n",
        "mytxt = my_function(\"python\")\n",
        "\n",
        "print(mytxt[2:])"
      ]
    },
    {
      "cell_type": "code",
      "source": [
        "a = \"I love playing with python\"\n",
        "b = \"s\"\n",
        "c = a + b\n",
        "print(c)"
      ],
      "metadata": {
        "colab": {
          "base_uri": "https://localhost:8080/"
        },
        "id": "hoE4Odd6SwZ5",
        "outputId": "a378b92c-6073-4d97-a1f7-ec66284f546e"
      },
      "execution_count": 4,
      "outputs": [
        {
          "output_type": "stream",
          "name": "stdout",
          "text": [
            "I love playing with pythons\n"
          ]
        }
      ]
    },
    {
      "cell_type": "code",
      "source": [
        "print(\"Enter average total score of student: \")\n",
        "total = int(input())\n",
        "\n",
        "if total>=90 and total<=100:\n",
        "    print(\"Your Grade is A\")\n",
        "elif total>=80 and total<89:\n",
        "    print(\"Your Grade is B\")\n",
        "elif total>=70 and total<79:\n",
        "    print(\"Your Grade is C\")\n",
        "elif total>=60 and total<69:\n",
        "    print(\"Your Grade is D\")\n",
        "elif total>=0 and total<60:\n",
        "    print(\"Your Grade is F\")\n",
        "else:\n",
        "    print(\"Invalid Input!\")"
      ],
      "metadata": {
        "colab": {
          "base_uri": "https://localhost:8080/"
        },
        "id": "QfcG6cc0TKUh",
        "outputId": "218c809e-e072-4b98-e3ed-7a1bdf351cb9"
      },
      "execution_count": 5,
      "outputs": [
        {
          "output_type": "stream",
          "name": "stdout",
          "text": [
            "Enter average total score of student: \n",
            "65\n",
            "Your Grade is D\n"
          ]
        }
      ]
    }
  ]
}